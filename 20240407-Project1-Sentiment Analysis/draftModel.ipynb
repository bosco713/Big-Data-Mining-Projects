{
 "cells": [
  {
   "cell_type": "markdown",
   "metadata": {},
   "source": [
    "# 1. Loading data"
   ]
  },
  {
   "cell_type": "code",
   "execution_count": 40,
   "metadata": {},
   "outputs": [],
   "source": [
    "import pandas as pd"
   ]
  },
  {
   "cell_type": "code",
   "execution_count": 41,
   "metadata": {},
   "outputs": [],
   "source": [
    "def load_data(split_name='train', columns=['text', 'label'], folder='data'):\n",
    "    '''\n",
    "        \"split_name\" may be set as 'train', 'valid' or 'test' to load the corresponding dataset.\n",
    "        \n",
    "        You may also specify the column names to load any columns in the .csv data file.\n",
    "        Among many, \"text\" can be used as model input, and \"label\" column is the labels (sentiment). \n",
    "    '''\n",
    "    try:\n",
    "        print(f\"select [{', '.join(columns)}] columns from the {split_name} split\")\n",
    "        df = pd.read_csv(f'{folder}/{split_name}.csv')\n",
    "        df = df.loc[:,columns]\n",
    "        print(\"Success\")\n",
    "        return df\n",
    "    except:\n",
    "        print(f\"Failed loading specified columns... Returning all columns from the {split_name} split\")\n",
    "        df = pd.read_csv(f'{folder}/{split_name}.csv')\n",
    "        return df"
   ]
  },
  {
   "cell_type": "code",
   "execution_count": 42,
   "metadata": {},
   "outputs": [
    {
     "name": "stdout",
     "output_type": "stream",
     "text": [
      "select [text, label] columns from the train split\n",
      "Success\n",
      "select [text, label] columns from the valid split\n",
      "Success\n",
      "select [id, text] columns from the test_no_label split\n",
      "Success\n"
     ]
    }
   ],
   "source": [
    "train_df = load_data('train', columns=['text', 'label'], folder='data')\n",
    "valid_df = load_data('valid', columns=['text', 'label'], folder='data')\n",
    "# the test set labels (the 'label' column) are unavailable! So the following code will instead return all columns\n",
    "test_df = load_data('test_no_label', columns=['id', 'text'], folder='data')"
   ]
  },
  {
   "cell_type": "markdown",
   "metadata": {},
   "source": [
    "# 2. Data preprocessing functions"
   ]
  },
  {
   "cell_type": "code",
   "execution_count": 43,
   "metadata": {},
   "outputs": [],
   "source": [
    "import nltk\n",
    "from nltk.stem import PorterStemmer\n",
    "from nltk.corpus import stopwords\n",
    "stopwords = set (stopwords.words('english'))\n",
    "porterStemmer = PorterStemmer()\n",
    "\n",
    "def lower(s):\n",
    "    \"\"\"\n",
    "    :param s: a string.\n",
    "    return a string with lower characters\n",
    "    Note that we allow the input to be nested string of a list.\n",
    "    e.g.\n",
    "    Input: 'Text mining is to identify useful information.'\n",
    "    Output: 'text mining is to identify useful information.'\n",
    "    \"\"\"\n",
    "    if isinstance(s, list):\n",
    "        return [lower(t) for t in s]\n",
    "    if isinstance(s, str):\n",
    "        return s.lower()\n",
    "    else:\n",
    "        raise NotImplementedError(\"unknown datatype\")\n",
    "\n",
    "\n",
    "def tokenize(text):\n",
    "    \"\"\"\n",
    "    :param text: a doc with multiple sentences, type: str\n",
    "    return a word list, type: list\n",
    "    e.g.\n",
    "    Input: 'Text mining is to identify useful information.'\n",
    "    Output: ['Text', 'mining', 'is', 'to', 'identify', 'useful', 'information', '.']\n",
    "    \"\"\"\n",
    "    return nltk.word_tokenize(text)\n",
    "\n",
    "\n",
    "def stem(tokens):\n",
    "    \"\"\"\n",
    "    :param tokens: a list of tokens, type: list\n",
    "    return a list of stemmed words, type: list\n",
    "    e.g.\n",
    "    Input: ['Text', 'mining', 'is', 'to', 'identify', 'useful', 'information', '.']\n",
    "    Output: ['text', 'mine', 'is', 'to', 'identifi', 'use', 'inform', '.']\n",
    "    \"\"\"\n",
    "    ### equivalent code\n",
    "    # results = list()\n",
    "    # for token in tokens:\n",
    "    #     results.append(ps.stem(token))\n",
    "    # return results\n",
    "\n",
    "    return [porterStemmer.stem(token) for token in tokens]\n",
    "\n",
    "def n_gram(tokens, n=1):\n",
    "    \"\"\"\n",
    "    :param tokens: a list of tokens, type: list\n",
    "    :param n: the corresponding n-gram, type: int\n",
    "    return a list of n-gram tokens, type: list\n",
    "    e.g.\n",
    "    Input: ['text', 'mine', 'is', 'to', 'identifi', 'use', 'inform', '.'], 2\n",
    "    Output: ['text mine', 'mine is', 'is to', 'to identifi', 'identifi use', 'use inform', 'inform .']\n",
    "    \"\"\"\n",
    "    if n == 1:\n",
    "        return tokens\n",
    "    else:\n",
    "        results = list()\n",
    "        for i in range(len(tokens)-n+1):\n",
    "            # tokens[i:i+n] will return a sublist from i th to i+n th (i+n th is not included)\n",
    "            results.append(\" \".join(tokens[i:i+n]))\n",
    "        return results\n",
    "\n",
    "def filter_stopwords(tokens):\n",
    "    \"\"\"\n",
    "    :param tokens: a list of tokens, type: list\n",
    "    return a list of filtered tokens, type: list\n",
    "    e.g.\n",
    "    Input: ['text', 'mine', 'is', 'to', 'identifi', 'use', 'inform', '.']\n",
    "    Output: ['text', 'mine', 'identifi', 'use', 'inform', '.']\n",
    "    \"\"\"\n",
    "    ### equivalent code\n",
    "    # results = list()\n",
    "    # for token in tokens:\n",
    "    #     if token not in stopwords and not token.isnumeric():\n",
    "    #         results.append(token)\n",
    "    # return results\n",
    "\n",
    "    return [token for token in tokens if token not in stopwords and not token.isnumeric()]\n",
    "\n",
    "\n",
    "def get_onehot_vector(feats, feats_dict):\n",
    "    \"\"\"\n",
    "    :param data: a list of features, type: list\n",
    "    :param feats_dict: a dict from features to indices, type: dict\n",
    "    return a feature vector,\n",
    "    \"\"\"\n",
    "    # initialize the vector as all zeros\n",
    "    vector = np.zeros(len(feats_dict), dtype=float)\n",
    "    for f in feats:\n",
    "        # get the feature index, return -1 if the feature is not existed\n",
    "        f_idx = feats_dict.get(f, -1)\n",
    "        if f_idx != -1:\n",
    "            # set the corresponding element as 1\n",
    "            vector[f_idx] = 1\n",
    "    return vector\n",
    "\n",
    "def biGram(tokens):\n",
    "    return n_gram(tokens, 2)"
   ]
  },
  {
   "cell_type": "markdown",
   "metadata": {},
   "source": [
    "# 3. Build our model"
   ]
  },
  {
   "cell_type": "markdown",
   "metadata": {},
   "source": [
    "## A. CountVectorizer + Logistic regression"
   ]
  },
  {
   "cell_type": "markdown",
   "metadata": {},
   "source": [
    "### Import library"
   ]
  },
  {
   "cell_type": "code",
   "execution_count": 44,
   "metadata": {},
   "outputs": [],
   "source": [
    "import numpy as np\n",
    "from sklearn.feature_extraction.text import CountVectorizer\n",
    "from sklearn.metrics import confusion_matrix, classification_report, accuracy_score\n",
    "from sklearn.linear_model import LogisticRegression"
   ]
  },
  {
   "cell_type": "markdown",
   "metadata": {},
   "source": [
    "### Data preprocessing"
   ]
  },
  {
   "cell_type": "code",
   "execution_count": 45,
   "metadata": {},
   "outputs": [
    {
     "name": "stdout",
     "output_type": "stream",
     "text": [
      "select [text, label] columns from the train split\n",
      "Success\n",
      "select [text, label] columns from the valid split\n",
      "Success\n"
     ]
    }
   ],
   "source": [
    "train_df = load_data('train')\n",
    "valid_df = load_data('valid')\n",
    "x_train = train_df['text']\n",
    "y_train = train_df['label']\n",
    "x_valid = valid_df['text']\n",
    "y_valid = valid_df['label']"
   ]
  },
  {
   "cell_type": "code",
   "execution_count": 46,
   "metadata": {},
   "outputs": [],
   "source": [
    "train_data_x = train_df['text'].map(tokenize).map(lower).map(filter_stopwords).map(stem)\n",
    "train_data_y = train_df['label']\n",
    "valid_data_x = valid_df['text'].map(tokenize).map(lower).map(filter_stopwords).map(stem)\n",
    "valid_data_y = valid_df['label']"
   ]
  },
  {
   "cell_type": "code",
   "execution_count": 47,
   "metadata": {},
   "outputs": [],
   "source": [
    "for i in range(len(train_data_x)):\n",
    "    train_data_x[i] = ' '.join(train_data_x[i])\n",
    "for i in range(len(valid_data_x)):\n",
    "    valid_data_x[i] = ' '.join(valid_data_x[i])"
   ]
  },
  {
   "cell_type": "code",
   "execution_count": 48,
   "metadata": {},
   "outputs": [],
   "source": [
    "train_data_x.to_csv(\"data/norm_train_data.csv\")\n",
    "valid_data_x.to_csv(\"data/norm_valid_data.csv\")"
   ]
  },
  {
   "cell_type": "code",
   "execution_count": 49,
   "metadata": {},
   "outputs": [
    {
     "name": "stdout",
     "output_type": "stream",
     "text": [
      "select [text, label] columns from the norm_train_data split\n",
      "Failed loading specified columns... Returning all columns from the norm_train_data split\n",
      "select [text, label] columns from the norm_valid_data split\n",
      "Failed loading specified columns... Returning all columns from the norm_valid_data split\n"
     ]
    }
   ],
   "source": [
    "norm_train_data = load_data(\"norm_train_data\")['text']\n",
    "norm_valid_data = load_data(\"norm_valid_data\")['text']"
   ]
  },
  {
   "cell_type": "markdown",
   "metadata": {},
   "source": [
    "### Model"
   ]
  },
  {
   "cell_type": "code",
   "execution_count": 50,
   "metadata": {},
   "outputs": [],
   "source": [
    "countVectorizer = CountVectorizer(min_df=0.0, max_df=0.2, binary=False, ngram_range=(1, 3))\n",
    "cV_train = countVectorizer.fit_transform(norm_train_data)\n",
    "cV_valid = countVectorizer.transform(norm_valid_data)"
   ]
  },
  {
   "cell_type": "code",
   "execution_count": 51,
   "metadata": {},
   "outputs": [
    {
     "data": {
      "text/html": [
       "<style>#sk-container-id-10 {\n",
       "  /* Definition of color scheme common for light and dark mode */\n",
       "  --sklearn-color-text: black;\n",
       "  --sklearn-color-line: gray;\n",
       "  /* Definition of color scheme for unfitted estimators */\n",
       "  --sklearn-color-unfitted-level-0: #fff5e6;\n",
       "  --sklearn-color-unfitted-level-1: #f6e4d2;\n",
       "  --sklearn-color-unfitted-level-2: #ffe0b3;\n",
       "  --sklearn-color-unfitted-level-3: chocolate;\n",
       "  /* Definition of color scheme for fitted estimators */\n",
       "  --sklearn-color-fitted-level-0: #f0f8ff;\n",
       "  --sklearn-color-fitted-level-1: #d4ebff;\n",
       "  --sklearn-color-fitted-level-2: #b3dbfd;\n",
       "  --sklearn-color-fitted-level-3: cornflowerblue;\n",
       "\n",
       "  /* Specific color for light theme */\n",
       "  --sklearn-color-text-on-default-background: var(--sg-text-color, var(--theme-code-foreground, var(--jp-content-font-color1, black)));\n",
       "  --sklearn-color-background: var(--sg-background-color, var(--theme-background, var(--jp-layout-color0, white)));\n",
       "  --sklearn-color-border-box: var(--sg-text-color, var(--theme-code-foreground, var(--jp-content-font-color1, black)));\n",
       "  --sklearn-color-icon: #696969;\n",
       "\n",
       "  @media (prefers-color-scheme: dark) {\n",
       "    /* Redefinition of color scheme for dark theme */\n",
       "    --sklearn-color-text-on-default-background: var(--sg-text-color, var(--theme-code-foreground, var(--jp-content-font-color1, white)));\n",
       "    --sklearn-color-background: var(--sg-background-color, var(--theme-background, var(--jp-layout-color0, #111)));\n",
       "    --sklearn-color-border-box: var(--sg-text-color, var(--theme-code-foreground, var(--jp-content-font-color1, white)));\n",
       "    --sklearn-color-icon: #878787;\n",
       "  }\n",
       "}\n",
       "\n",
       "#sk-container-id-10 {\n",
       "  color: var(--sklearn-color-text);\n",
       "}\n",
       "\n",
       "#sk-container-id-10 pre {\n",
       "  padding: 0;\n",
       "}\n",
       "\n",
       "#sk-container-id-10 input.sk-hidden--visually {\n",
       "  border: 0;\n",
       "  clip: rect(1px 1px 1px 1px);\n",
       "  clip: rect(1px, 1px, 1px, 1px);\n",
       "  height: 1px;\n",
       "  margin: -1px;\n",
       "  overflow: hidden;\n",
       "  padding: 0;\n",
       "  position: absolute;\n",
       "  width: 1px;\n",
       "}\n",
       "\n",
       "#sk-container-id-10 div.sk-dashed-wrapped {\n",
       "  border: 1px dashed var(--sklearn-color-line);\n",
       "  margin: 0 0.4em 0.5em 0.4em;\n",
       "  box-sizing: border-box;\n",
       "  padding-bottom: 0.4em;\n",
       "  background-color: var(--sklearn-color-background);\n",
       "}\n",
       "\n",
       "#sk-container-id-10 div.sk-container {\n",
       "  /* jupyter's `normalize.less` sets `[hidden] { display: none; }`\n",
       "     but bootstrap.min.css set `[hidden] { display: none !important; }`\n",
       "     so we also need the `!important` here to be able to override the\n",
       "     default hidden behavior on the sphinx rendered scikit-learn.org.\n",
       "     See: https://github.com/scikit-learn/scikit-learn/issues/21755 */\n",
       "  display: inline-block !important;\n",
       "  position: relative;\n",
       "}\n",
       "\n",
       "#sk-container-id-10 div.sk-text-repr-fallback {\n",
       "  display: none;\n",
       "}\n",
       "\n",
       "div.sk-parallel-item,\n",
       "div.sk-serial,\n",
       "div.sk-item {\n",
       "  /* draw centered vertical line to link estimators */\n",
       "  background-image: linear-gradient(var(--sklearn-color-text-on-default-background), var(--sklearn-color-text-on-default-background));\n",
       "  background-size: 2px 100%;\n",
       "  background-repeat: no-repeat;\n",
       "  background-position: center center;\n",
       "}\n",
       "\n",
       "/* Parallel-specific style estimator block */\n",
       "\n",
       "#sk-container-id-10 div.sk-parallel-item::after {\n",
       "  content: \"\";\n",
       "  width: 100%;\n",
       "  border-bottom: 2px solid var(--sklearn-color-text-on-default-background);\n",
       "  flex-grow: 1;\n",
       "}\n",
       "\n",
       "#sk-container-id-10 div.sk-parallel {\n",
       "  display: flex;\n",
       "  align-items: stretch;\n",
       "  justify-content: center;\n",
       "  background-color: var(--sklearn-color-background);\n",
       "  position: relative;\n",
       "}\n",
       "\n",
       "#sk-container-id-10 div.sk-parallel-item {\n",
       "  display: flex;\n",
       "  flex-direction: column;\n",
       "}\n",
       "\n",
       "#sk-container-id-10 div.sk-parallel-item:first-child::after {\n",
       "  align-self: flex-end;\n",
       "  width: 50%;\n",
       "}\n",
       "\n",
       "#sk-container-id-10 div.sk-parallel-item:last-child::after {\n",
       "  align-self: flex-start;\n",
       "  width: 50%;\n",
       "}\n",
       "\n",
       "#sk-container-id-10 div.sk-parallel-item:only-child::after {\n",
       "  width: 0;\n",
       "}\n",
       "\n",
       "/* Serial-specific style estimator block */\n",
       "\n",
       "#sk-container-id-10 div.sk-serial {\n",
       "  display: flex;\n",
       "  flex-direction: column;\n",
       "  align-items: center;\n",
       "  background-color: var(--sklearn-color-background);\n",
       "  padding-right: 1em;\n",
       "  padding-left: 1em;\n",
       "}\n",
       "\n",
       "\n",
       "/* Toggleable style: style used for estimator/Pipeline/ColumnTransformer box that is\n",
       "clickable and can be expanded/collapsed.\n",
       "- Pipeline and ColumnTransformer use this feature and define the default style\n",
       "- Estimators will overwrite some part of the style using the `sk-estimator` class\n",
       "*/\n",
       "\n",
       "/* Pipeline and ColumnTransformer style (default) */\n",
       "\n",
       "#sk-container-id-10 div.sk-toggleable {\n",
       "  /* Default theme specific background. It is overwritten whether we have a\n",
       "  specific estimator or a Pipeline/ColumnTransformer */\n",
       "  background-color: var(--sklearn-color-background);\n",
       "}\n",
       "\n",
       "/* Toggleable label */\n",
       "#sk-container-id-10 label.sk-toggleable__label {\n",
       "  cursor: pointer;\n",
       "  display: block;\n",
       "  width: 100%;\n",
       "  margin-bottom: 0;\n",
       "  padding: 0.5em;\n",
       "  box-sizing: border-box;\n",
       "  text-align: center;\n",
       "}\n",
       "\n",
       "#sk-container-id-10 label.sk-toggleable__label-arrow:before {\n",
       "  /* Arrow on the left of the label */\n",
       "  content: \"▸\";\n",
       "  float: left;\n",
       "  margin-right: 0.25em;\n",
       "  color: var(--sklearn-color-icon);\n",
       "}\n",
       "\n",
       "#sk-container-id-10 label.sk-toggleable__label-arrow:hover:before {\n",
       "  color: var(--sklearn-color-text);\n",
       "}\n",
       "\n",
       "/* Toggleable content - dropdown */\n",
       "\n",
       "#sk-container-id-10 div.sk-toggleable__content {\n",
       "  max-height: 0;\n",
       "  max-width: 0;\n",
       "  overflow: hidden;\n",
       "  text-align: left;\n",
       "  /* unfitted */\n",
       "  background-color: var(--sklearn-color-unfitted-level-0);\n",
       "}\n",
       "\n",
       "#sk-container-id-10 div.sk-toggleable__content.fitted {\n",
       "  /* fitted */\n",
       "  background-color: var(--sklearn-color-fitted-level-0);\n",
       "}\n",
       "\n",
       "#sk-container-id-10 div.sk-toggleable__content pre {\n",
       "  margin: 0.2em;\n",
       "  border-radius: 0.25em;\n",
       "  color: var(--sklearn-color-text);\n",
       "  /* unfitted */\n",
       "  background-color: var(--sklearn-color-unfitted-level-0);\n",
       "}\n",
       "\n",
       "#sk-container-id-10 div.sk-toggleable__content.fitted pre {\n",
       "  /* unfitted */\n",
       "  background-color: var(--sklearn-color-fitted-level-0);\n",
       "}\n",
       "\n",
       "#sk-container-id-10 input.sk-toggleable__control:checked~div.sk-toggleable__content {\n",
       "  /* Expand drop-down */\n",
       "  max-height: 200px;\n",
       "  max-width: 100%;\n",
       "  overflow: auto;\n",
       "}\n",
       "\n",
       "#sk-container-id-10 input.sk-toggleable__control:checked~label.sk-toggleable__label-arrow:before {\n",
       "  content: \"▾\";\n",
       "}\n",
       "\n",
       "/* Pipeline/ColumnTransformer-specific style */\n",
       "\n",
       "#sk-container-id-10 div.sk-label input.sk-toggleable__control:checked~label.sk-toggleable__label {\n",
       "  color: var(--sklearn-color-text);\n",
       "  background-color: var(--sklearn-color-unfitted-level-2);\n",
       "}\n",
       "\n",
       "#sk-container-id-10 div.sk-label.fitted input.sk-toggleable__control:checked~label.sk-toggleable__label {\n",
       "  background-color: var(--sklearn-color-fitted-level-2);\n",
       "}\n",
       "\n",
       "/* Estimator-specific style */\n",
       "\n",
       "/* Colorize estimator box */\n",
       "#sk-container-id-10 div.sk-estimator input.sk-toggleable__control:checked~label.sk-toggleable__label {\n",
       "  /* unfitted */\n",
       "  background-color: var(--sklearn-color-unfitted-level-2);\n",
       "}\n",
       "\n",
       "#sk-container-id-10 div.sk-estimator.fitted input.sk-toggleable__control:checked~label.sk-toggleable__label {\n",
       "  /* fitted */\n",
       "  background-color: var(--sklearn-color-fitted-level-2);\n",
       "}\n",
       "\n",
       "#sk-container-id-10 div.sk-label label.sk-toggleable__label,\n",
       "#sk-container-id-10 div.sk-label label {\n",
       "  /* The background is the default theme color */\n",
       "  color: var(--sklearn-color-text-on-default-background);\n",
       "}\n",
       "\n",
       "/* On hover, darken the color of the background */\n",
       "#sk-container-id-10 div.sk-label:hover label.sk-toggleable__label {\n",
       "  color: var(--sklearn-color-text);\n",
       "  background-color: var(--sklearn-color-unfitted-level-2);\n",
       "}\n",
       "\n",
       "/* Label box, darken color on hover, fitted */\n",
       "#sk-container-id-10 div.sk-label.fitted:hover label.sk-toggleable__label.fitted {\n",
       "  color: var(--sklearn-color-text);\n",
       "  background-color: var(--sklearn-color-fitted-level-2);\n",
       "}\n",
       "\n",
       "/* Estimator label */\n",
       "\n",
       "#sk-container-id-10 div.sk-label label {\n",
       "  font-family: monospace;\n",
       "  font-weight: bold;\n",
       "  display: inline-block;\n",
       "  line-height: 1.2em;\n",
       "}\n",
       "\n",
       "#sk-container-id-10 div.sk-label-container {\n",
       "  text-align: center;\n",
       "}\n",
       "\n",
       "/* Estimator-specific */\n",
       "#sk-container-id-10 div.sk-estimator {\n",
       "  font-family: monospace;\n",
       "  border: 1px dotted var(--sklearn-color-border-box);\n",
       "  border-radius: 0.25em;\n",
       "  box-sizing: border-box;\n",
       "  margin-bottom: 0.5em;\n",
       "  /* unfitted */\n",
       "  background-color: var(--sklearn-color-unfitted-level-0);\n",
       "}\n",
       "\n",
       "#sk-container-id-10 div.sk-estimator.fitted {\n",
       "  /* fitted */\n",
       "  background-color: var(--sklearn-color-fitted-level-0);\n",
       "}\n",
       "\n",
       "/* on hover */\n",
       "#sk-container-id-10 div.sk-estimator:hover {\n",
       "  /* unfitted */\n",
       "  background-color: var(--sklearn-color-unfitted-level-2);\n",
       "}\n",
       "\n",
       "#sk-container-id-10 div.sk-estimator.fitted:hover {\n",
       "  /* fitted */\n",
       "  background-color: var(--sklearn-color-fitted-level-2);\n",
       "}\n",
       "\n",
       "/* Specification for estimator info (e.g. \"i\" and \"?\") */\n",
       "\n",
       "/* Common style for \"i\" and \"?\" */\n",
       "\n",
       ".sk-estimator-doc-link,\n",
       "a:link.sk-estimator-doc-link,\n",
       "a:visited.sk-estimator-doc-link {\n",
       "  float: right;\n",
       "  font-size: smaller;\n",
       "  line-height: 1em;\n",
       "  font-family: monospace;\n",
       "  background-color: var(--sklearn-color-background);\n",
       "  border-radius: 1em;\n",
       "  height: 1em;\n",
       "  width: 1em;\n",
       "  text-decoration: none !important;\n",
       "  margin-left: 1ex;\n",
       "  /* unfitted */\n",
       "  border: var(--sklearn-color-unfitted-level-1) 1pt solid;\n",
       "  color: var(--sklearn-color-unfitted-level-1);\n",
       "}\n",
       "\n",
       ".sk-estimator-doc-link.fitted,\n",
       "a:link.sk-estimator-doc-link.fitted,\n",
       "a:visited.sk-estimator-doc-link.fitted {\n",
       "  /* fitted */\n",
       "  border: var(--sklearn-color-fitted-level-1) 1pt solid;\n",
       "  color: var(--sklearn-color-fitted-level-1);\n",
       "}\n",
       "\n",
       "/* On hover */\n",
       "div.sk-estimator:hover .sk-estimator-doc-link:hover,\n",
       ".sk-estimator-doc-link:hover,\n",
       "div.sk-label-container:hover .sk-estimator-doc-link:hover,\n",
       ".sk-estimator-doc-link:hover {\n",
       "  /* unfitted */\n",
       "  background-color: var(--sklearn-color-unfitted-level-3);\n",
       "  color: var(--sklearn-color-background);\n",
       "  text-decoration: none;\n",
       "}\n",
       "\n",
       "div.sk-estimator.fitted:hover .sk-estimator-doc-link.fitted:hover,\n",
       ".sk-estimator-doc-link.fitted:hover,\n",
       "div.sk-label-container:hover .sk-estimator-doc-link.fitted:hover,\n",
       ".sk-estimator-doc-link.fitted:hover {\n",
       "  /* fitted */\n",
       "  background-color: var(--sklearn-color-fitted-level-3);\n",
       "  color: var(--sklearn-color-background);\n",
       "  text-decoration: none;\n",
       "}\n",
       "\n",
       "/* Span, style for the box shown on hovering the info icon */\n",
       ".sk-estimator-doc-link span {\n",
       "  display: none;\n",
       "  z-index: 9999;\n",
       "  position: relative;\n",
       "  font-weight: normal;\n",
       "  right: .2ex;\n",
       "  padding: .5ex;\n",
       "  margin: .5ex;\n",
       "  width: min-content;\n",
       "  min-width: 20ex;\n",
       "  max-width: 50ex;\n",
       "  color: var(--sklearn-color-text);\n",
       "  box-shadow: 2pt 2pt 4pt #999;\n",
       "  /* unfitted */\n",
       "  background: var(--sklearn-color-unfitted-level-0);\n",
       "  border: .5pt solid var(--sklearn-color-unfitted-level-3);\n",
       "}\n",
       "\n",
       ".sk-estimator-doc-link.fitted span {\n",
       "  /* fitted */\n",
       "  background: var(--sklearn-color-fitted-level-0);\n",
       "  border: var(--sklearn-color-fitted-level-3);\n",
       "}\n",
       "\n",
       ".sk-estimator-doc-link:hover span {\n",
       "  display: block;\n",
       "}\n",
       "\n",
       "/* \"?\"-specific style due to the `<a>` HTML tag */\n",
       "\n",
       "#sk-container-id-10 a.estimator_doc_link {\n",
       "  float: right;\n",
       "  font-size: 1rem;\n",
       "  line-height: 1em;\n",
       "  font-family: monospace;\n",
       "  background-color: var(--sklearn-color-background);\n",
       "  border-radius: 1rem;\n",
       "  height: 1rem;\n",
       "  width: 1rem;\n",
       "  text-decoration: none;\n",
       "  /* unfitted */\n",
       "  color: var(--sklearn-color-unfitted-level-1);\n",
       "  border: var(--sklearn-color-unfitted-level-1) 1pt solid;\n",
       "}\n",
       "\n",
       "#sk-container-id-10 a.estimator_doc_link.fitted {\n",
       "  /* fitted */\n",
       "  border: var(--sklearn-color-fitted-level-1) 1pt solid;\n",
       "  color: var(--sklearn-color-fitted-level-1);\n",
       "}\n",
       "\n",
       "/* On hover */\n",
       "#sk-container-id-10 a.estimator_doc_link:hover {\n",
       "  /* unfitted */\n",
       "  background-color: var(--sklearn-color-unfitted-level-3);\n",
       "  color: var(--sklearn-color-background);\n",
       "  text-decoration: none;\n",
       "}\n",
       "\n",
       "#sk-container-id-10 a.estimator_doc_link.fitted:hover {\n",
       "  /* fitted */\n",
       "  background-color: var(--sklearn-color-fitted-level-3);\n",
       "}\n",
       "</style><div id=\"sk-container-id-10\" class=\"sk-top-container\"><div class=\"sk-text-repr-fallback\"><pre>LogisticRegression()</pre><b>In a Jupyter environment, please rerun this cell to show the HTML representation or trust the notebook. <br />On GitHub, the HTML representation is unable to render, please try loading this page with nbviewer.org.</b></div><div class=\"sk-container\" hidden><div class=\"sk-item\"><div class=\"sk-estimator fitted sk-toggleable\"><input class=\"sk-toggleable__control sk-hidden--visually\" id=\"sk-estimator-id-10\" type=\"checkbox\" checked><label for=\"sk-estimator-id-10\" class=\"sk-toggleable__label fitted sk-toggleable__label-arrow fitted\">&nbsp;&nbsp;LogisticRegression<a class=\"sk-estimator-doc-link fitted\" rel=\"noreferrer\" target=\"_blank\" href=\"https://scikit-learn.org/1.4/modules/generated/sklearn.linear_model.LogisticRegression.html\">?<span>Documentation for LogisticRegression</span></a><span class=\"sk-estimator-doc-link fitted\">i<span>Fitted</span></span></label><div class=\"sk-toggleable__content fitted\"><pre>LogisticRegression()</pre></div> </div></div></div></div>"
      ],
      "text/plain": [
       "LogisticRegression()"
      ]
     },
     "execution_count": 51,
     "metadata": {},
     "output_type": "execute_result"
    }
   ],
   "source": [
    "lr = LogisticRegression()\n",
    "lr.fit(cV_train, y_train)\n",
    "lr"
   ]
  },
  {
   "cell_type": "code",
   "execution_count": 52,
   "metadata": {},
   "outputs": [
    {
     "name": "stdout",
     "output_type": "stream",
     "text": [
      "              precision    recall  f1-score   support\n",
      "\n",
      "           1       0.57      0.52      0.54       295\n",
      "           2       0.38      0.19      0.25       198\n",
      "           3       0.47      0.55      0.51       508\n",
      "           4       0.50      0.46      0.47       523\n",
      "           5       0.61      0.71      0.65       476\n",
      "\n",
      "    accuracy                           0.52      2000\n",
      "   macro avg       0.50      0.48      0.49      2000\n",
      "weighted avg       0.51      0.52      0.51      2000\n",
      "\n",
      "\n",
      "\n",
      "\n",
      "[[153  28  73  20  21]\n",
      " [ 47  38  82  21  10]\n",
      " [ 41  27 279 116  45]\n",
      " [ 15   5 122 238 143]\n",
      " [ 11   3  39  85 338]]\n",
      "accuracy 0.523\n"
     ]
    }
   ],
   "source": [
    "y_pred = lr.predict(cV_valid)\n",
    "print(classification_report(y_valid, y_pred))\n",
    "print(\"\\n\\n\")\n",
    "print(confusion_matrix(y_valid, y_pred))\n",
    "print('accuracy', np.mean(y_valid == y_pred))"
   ]
  },
  {
   "cell_type": "markdown",
   "metadata": {},
   "source": [
    "## B. LSTM"
   ]
  },
  {
   "cell_type": "markdown",
   "metadata": {},
   "source": [
    "### Import library"
   ]
  },
  {
   "cell_type": "code",
   "execution_count": 67,
   "metadata": {},
   "outputs": [],
   "source": [
    "import torch\n",
    "from torch import nn\n",
    "from torch.utils.data import DataLoader, Dataset\n",
    "import tqdm\n",
    "from sklearn.metrics import confusion_matrix, classification_report, accuracy_score\n",
    "from torch.autograd import Variable"
   ]
  },
  {
   "cell_type": "code",
   "execution_count": 68,
   "metadata": {},
   "outputs": [],
   "source": [
    "if torch.backends.mps.is_available():\n",
    "    mps_device = torch.device(\"mps\")"
   ]
  },
  {
   "cell_type": "markdown",
   "metadata": {},
   "source": [
    "### Data preprocessing"
   ]
  },
  {
   "cell_type": "code",
   "execution_count": 93,
   "metadata": {},
   "outputs": [
    {
     "name": "stdout",
     "output_type": "stream",
     "text": [
      "select [text, label] columns from the train split\n",
      "Success\n",
      "select [text, label] columns from the valid split\n",
      "Success\n"
     ]
    }
   ],
   "source": [
    "train_df = load_data('train')\n",
    "valid_df = load_data('valid')\n",
    "x_train = train_df['text'].map(tokenize).map(lower).map(filter_stopwords).map(stem)\n",
    "y_train = train_df['label']\n",
    "x_valid = valid_df['text'].map(tokenize).map(lower).map(filter_stopwords).map(stem)\n",
    "y_valid = valid_df['label']"
   ]
  },
  {
   "cell_type": "code",
   "execution_count": 94,
   "metadata": {},
   "outputs": [],
   "source": [
    "for i in range(len(x_train)):\n",
    "    x_train[i] = ' '.join(x_train[i])\n",
    "for i in range(len(x_valid)):\n",
    "    x_valid[i] = ' '.join(x_valid[i])\n",
    "x_train.to_csv(\"data/norm_train_data.csv\")\n",
    "x_valid.to_csv(\"data/norm_valid_data.csv\")"
   ]
  },
  {
   "cell_type": "code",
   "execution_count": 95,
   "metadata": {},
   "outputs": [
    {
     "name": "stdout",
     "output_type": "stream",
     "text": [
      "select [text, label] columns from the norm_train_data split\n",
      "Failed loading specified columns... Returning all columns from the norm_train_data split\n",
      "select [text, label] columns from the norm_valid_data split\n",
      "Failed loading specified columns... Returning all columns from the norm_valid_data split\n"
     ]
    }
   ],
   "source": [
    "norm_train_data = load_data(\"norm_train_data\")['text']\n",
    "norm_valid_data = load_data(\"norm_valid_data\")['text']"
   ]
  },
  {
   "cell_type": "code",
   "execution_count": 96,
   "metadata": {},
   "outputs": [],
   "source": [
    "word2id = {}\n",
    "for tokens in norm_train_data:\n",
    "    for t in tokens:\n",
    "        if not t in word2id:\n",
    "            word2id[t] = len(word2id)\n",
    "word2id['<pad>'] = len(word2id)"
   ]
  },
  {
   "cell_type": "code",
   "execution_count": 97,
   "metadata": {},
   "outputs": [],
   "source": [
    "def texts_to_id_seq(texts, padding_length=50):\n",
    "    records = []\n",
    "    for tokens in texts:\n",
    "        record = []\n",
    "        for t in tokens:\n",
    "            record.append(word2id.get(t, len(word2id)))\n",
    "        if len(record) >= padding_length:\n",
    "            records.append(record[:padding_length])\n",
    "        else:\n",
    "            records.append(record + [word2id['<pad>']] * (padding_length - len(record)))\n",
    "    return records"
   ]
  },
  {
   "cell_type": "code",
   "execution_count": 98,
   "metadata": {},
   "outputs": [],
   "source": [
    "train_seqs = texts_to_id_seq(norm_train_data)\n",
    "valid_seqs = texts_to_id_seq(norm_valid_data)"
   ]
  },
  {
   "cell_type": "code",
   "execution_count": 99,
   "metadata": {},
   "outputs": [],
   "source": [
    "X_train_tensors = Variable(torch.Tensor(train_seqs)).type(torch.LongTensor)\n",
    "X_valid_tensors = Variable(torch.Tensor(valid_seqs)).type(torch.LongTensor)\n",
    "\n",
    "y_train_tensors = Variable(torch.Tensor(y_train)).type(torch.LongTensor)\n",
    "y_valid_tensors = Variable(torch.Tensor(y_valid)).type(torch.LongTensor)"
   ]
  },
  {
   "cell_type": "code",
   "execution_count": 100,
   "metadata": {},
   "outputs": [],
   "source": [
    "class MyDataset(Dataset):\n",
    "    \n",
    "    def __init__(self, seq, y):\n",
    "        assert len(seq) == len(y)\n",
    "        self.seq = seq\n",
    "        self.y = y-1\n",
    "    \n",
    "    def __getitem__(self, idx):\n",
    "        return np.asarray(self.seq[idx]), self.y[idx]\n",
    "\n",
    "    def __len__(self):\n",
    "        return len(self.seq)"
   ]
  },
  {
   "cell_type": "code",
   "execution_count": 101,
   "metadata": {},
   "outputs": [],
   "source": [
    "batch_size = 16\n",
    "\n",
    "train_loader = DataLoader(MyDataset(X_train_tensors, y_train_tensors), batch_size=batch_size, shuffle=True)\n",
    "valid_loader = DataLoader(MyDataset(X_valid_tensors, y_valid_tensors), batch_size=batch_size)"
   ]
  },
  {
   "cell_type": "markdown",
   "metadata": {},
   "source": [
    "### Model"
   ]
  },
  {
   "cell_type": "code",
   "execution_count": 102,
   "metadata": {},
   "outputs": [],
   "source": [
    "class lstm_model(nn.Module):\n",
    "    def __init__(self, num_classes, input_size, hidden_size, num_layers, seq_length):\n",
    "        super(lstm_model, self).__init__()\n",
    "        self.num_classes = num_classes #number of classes\n",
    "        self.num_layers = num_layers #number of layers\n",
    "        self.input_size = input_size #input size\n",
    "        self.hidden_size = hidden_size #hidden state\n",
    "        self.seq_length = seq_length #sequence length\n",
    "\n",
    "        self.embedding = nn.Embedding(num_embeddings=len(word2id)+1, embedding_dim=input_size)\n",
    "        self.lstm = nn.LSTM(input_size=input_size, hidden_size=hidden_size,\n",
    "                          num_layers=num_layers, batch_first=True) #lstm\n",
    "        self.fc_1 =  nn.Linear(hidden_size, 128) #fully connected 1\n",
    "        self.max = nn.MaxPool1d(kernel_size=3,\n",
    "                                stride=1)\n",
    "        self.drop = nn.Dropout(0.5)\n",
    "        self.fc = nn.Linear(128, num_classes) #fully connected last layer\n",
    "\n",
    "        self.relu = nn.ReLU()\n",
    "        self.softmax = nn.Softmax()\n",
    "    \n",
    "    def forward(self,x):\n",
    "        h_0 = Variable(torch.zeros(self.num_layers, x.size(0), self.hidden_size)) #hidden state\n",
    "        c_0 = Variable(torch.zeros(self.num_layers, x.size(0), self.hidden_size)) #internal state\n",
    "        # Propagate input through LSTM\n",
    "        embedd = self.embedding(x)\n",
    "        embedd = self.drop(embedd)\n",
    "        output, (hn, cn) = self.lstm(embedd, (h_0, c_0)) #lstm with input, hidden, and internal state\n",
    "        # return self.softmax(self.fc(output[:,-1,:]))\n",
    "        hn = hn.view(-1, self.hidden_size) #reshaping the data for Dense layer next\n",
    "        out = self.relu(hn)\n",
    "        # out = self.fc_1(out) #first Dense\n",
    "        # out = self.relu(out) #relu\n",
    "        out = self.fc(out) #Final Output\n",
    "        return out"
   ]
  },
  {
   "cell_type": "code",
   "execution_count": 103,
   "metadata": {},
   "outputs": [],
   "source": [
    "num_classes, input_size, hidden_size, num_layers, seq_length = 5, 64, 128, 1, 1\n",
    "model = lstm_model(num_classes, input_size, hidden_size, num_layers, seq_length)\n",
    "optimizer = torch.optim.Adam(model.parameters(), lr=1e-3)\n",
    "criterion = torch.nn.CrossEntropyLoss()     "
   ]
  },
  {
   "cell_type": "code",
   "execution_count": 104,
   "metadata": {},
   "outputs": [
    {
     "name": "stdout",
     "output_type": "stream",
     "text": [
      "epoch 1\n"
     ]
    },
    {
     "name": "stderr",
     "output_type": "stream",
     "text": [
      "100%|██████████| 1125/1125 [00:28<00:00, 40.05it/s, loss=0.0977, acc=0.251]\n",
      "100%|██████████| 125/125 [00:01<00:00, 116.15it/s]\n",
      "/Users/him/anaconda3/envs/COMP4332_Project/lib/python3.11/site-packages/sklearn/metrics/_classification.py:1509: UndefinedMetricWarning: Precision is ill-defined and being set to 0.0 in labels with no predicted samples. Use `zero_division` parameter to control this behavior.\n",
      "  _warn_prf(average, modifier, f\"{metric.capitalize()} is\", len(result))\n",
      "/Users/him/anaconda3/envs/COMP4332_Project/lib/python3.11/site-packages/sklearn/metrics/_classification.py:1509: UndefinedMetricWarning: Precision is ill-defined and being set to 0.0 in labels with no predicted samples. Use `zero_division` parameter to control this behavior.\n",
      "  _warn_prf(average, modifier, f\"{metric.capitalize()} is\", len(result))\n",
      "/Users/him/anaconda3/envs/COMP4332_Project/lib/python3.11/site-packages/sklearn/metrics/_classification.py:1509: UndefinedMetricWarning: Precision is ill-defined and being set to 0.0 in labels with no predicted samples. Use `zero_division` parameter to control this behavior.\n",
      "  _warn_prf(average, modifier, f\"{metric.capitalize()} is\", len(result))\n"
     ]
    },
    {
     "name": "stdout",
     "output_type": "stream",
     "text": [
      "              precision    recall  f1-score   support\n",
      "\n",
      "           0       0.00      0.00      0.00       295\n",
      "           1       0.00      0.00      0.00       198\n",
      "           2       0.00      0.00      0.00       508\n",
      "           3       0.28      0.27      0.27       523\n",
      "           4       0.24      0.77      0.37       476\n",
      "\n",
      "    accuracy                           0.25      2000\n",
      "   macro avg       0.10      0.21      0.13      2000\n",
      "weighted avg       0.13      0.25      0.16      2000\n",
      "\n",
      "\n",
      "\n",
      "\n",
      "[[  0   0   0  80 215]\n",
      " [  0   0   0  47 151]\n",
      " [  0   0   0 125 383]\n",
      " [  0   0   0 139 384]\n",
      " [  0   0   0 110 366]]\n",
      "accuracy 0.2545\n",
      "epoch 2\n"
     ]
    },
    {
     "name": "stderr",
     "output_type": "stream",
     "text": [
      "100%|██████████| 1125/1125 [00:26<00:00, 42.85it/s, loss=0.0973, acc=0.257]\n",
      "100%|██████████| 125/125 [00:01<00:00, 103.83it/s]\n",
      "/Users/him/anaconda3/envs/COMP4332_Project/lib/python3.11/site-packages/sklearn/metrics/_classification.py:1509: UndefinedMetricWarning: Precision is ill-defined and being set to 0.0 in labels with no predicted samples. Use `zero_division` parameter to control this behavior.\n",
      "  _warn_prf(average, modifier, f\"{metric.capitalize()} is\", len(result))\n",
      "/Users/him/anaconda3/envs/COMP4332_Project/lib/python3.11/site-packages/sklearn/metrics/_classification.py:1509: UndefinedMetricWarning: Precision is ill-defined and being set to 0.0 in labels with no predicted samples. Use `zero_division` parameter to control this behavior.\n",
      "  _warn_prf(average, modifier, f\"{metric.capitalize()} is\", len(result))\n",
      "/Users/him/anaconda3/envs/COMP4332_Project/lib/python3.11/site-packages/sklearn/metrics/_classification.py:1509: UndefinedMetricWarning: Precision is ill-defined and being set to 0.0 in labels with no predicted samples. Use `zero_division` parameter to control this behavior.\n",
      "  _warn_prf(average, modifier, f\"{metric.capitalize()} is\", len(result))\n"
     ]
    },
    {
     "name": "stdout",
     "output_type": "stream",
     "text": [
      "              precision    recall  f1-score   support\n",
      "\n",
      "           0       0.00      0.00      0.00       295\n",
      "           1       0.00      0.00      0.00       198\n",
      "           2       0.26      0.37      0.30       508\n",
      "           3       0.29      0.34      0.32       523\n",
      "           4       0.29      0.39      0.33       476\n",
      "\n",
      "    accuracy                           0.28      2000\n",
      "   macro avg       0.17      0.22      0.19      2000\n",
      "weighted avg       0.21      0.28      0.24      2000\n",
      "\n",
      "\n",
      "\n",
      "\n",
      "[[  0   0 122  92  81]\n",
      " [  0   0  93  59  46]\n",
      " [  0   0 189 158 161]\n",
      " [  0   0 174 180 169]\n",
      " [  0   0 161 128 187]]\n",
      "accuracy 0.21\n",
      "epoch 3\n"
     ]
    },
    {
     "name": "stderr",
     "output_type": "stream",
     "text": [
      "100%|██████████| 1125/1125 [00:28<00:00, 39.38it/s, loss=0.0971, acc=0.263]\n",
      "100%|██████████| 125/125 [00:01<00:00, 109.01it/s]\n",
      "/Users/him/anaconda3/envs/COMP4332_Project/lib/python3.11/site-packages/sklearn/metrics/_classification.py:1509: UndefinedMetricWarning: Precision is ill-defined and being set to 0.0 in labels with no predicted samples. Use `zero_division` parameter to control this behavior.\n",
      "  _warn_prf(average, modifier, f\"{metric.capitalize()} is\", len(result))\n",
      "/Users/him/anaconda3/envs/COMP4332_Project/lib/python3.11/site-packages/sklearn/metrics/_classification.py:1509: UndefinedMetricWarning: Precision is ill-defined and being set to 0.0 in labels with no predicted samples. Use `zero_division` parameter to control this behavior.\n",
      "  _warn_prf(average, modifier, f\"{metric.capitalize()} is\", len(result))\n",
      "/Users/him/anaconda3/envs/COMP4332_Project/lib/python3.11/site-packages/sklearn/metrics/_classification.py:1509: UndefinedMetricWarning: Precision is ill-defined and being set to 0.0 in labels with no predicted samples. Use `zero_division` parameter to control this behavior.\n",
      "  _warn_prf(average, modifier, f\"{metric.capitalize()} is\", len(result))\n"
     ]
    },
    {
     "name": "stdout",
     "output_type": "stream",
     "text": [
      "              precision    recall  f1-score   support\n",
      "\n",
      "           0       0.00      0.00      0.00       295\n",
      "           1       0.00      0.00      0.00       198\n",
      "           2       0.29      0.15      0.20       508\n",
      "           3       0.27      0.63      0.38       523\n",
      "           4       0.30      0.33      0.31       476\n",
      "\n",
      "    accuracy                           0.28      2000\n",
      "   macro avg       0.17      0.22      0.18      2000\n",
      "weighted avg       0.22      0.28      0.22      2000\n",
      "\n",
      "\n",
      "\n",
      "\n",
      "[[  0   0  43 182  70]\n",
      " [  0   0  30 120  48]\n",
      " [  0   0  76 320 112]\n",
      " [  0   0  51 330 142]\n",
      " [  0   0  63 256 157]]\n",
      "accuracy 0.246\n",
      "epoch 4\n"
     ]
    },
    {
     "name": "stderr",
     "output_type": "stream",
     "text": [
      "100%|██████████| 1125/1125 [00:26<00:00, 42.44it/s, loss=0.0956, acc=0.298]\n",
      "100%|██████████| 125/125 [00:01<00:00, 86.81it/s]\n",
      "/Users/him/anaconda3/envs/COMP4332_Project/lib/python3.11/site-packages/sklearn/metrics/_classification.py:1509: UndefinedMetricWarning: Precision is ill-defined and being set to 0.0 in labels with no predicted samples. Use `zero_division` parameter to control this behavior.\n",
      "  _warn_prf(average, modifier, f\"{metric.capitalize()} is\", len(result))\n",
      "/Users/him/anaconda3/envs/COMP4332_Project/lib/python3.11/site-packages/sklearn/metrics/_classification.py:1509: UndefinedMetricWarning: Precision is ill-defined and being set to 0.0 in labels with no predicted samples. Use `zero_division` parameter to control this behavior.\n",
      "  _warn_prf(average, modifier, f\"{metric.capitalize()} is\", len(result))\n",
      "/Users/him/anaconda3/envs/COMP4332_Project/lib/python3.11/site-packages/sklearn/metrics/_classification.py:1509: UndefinedMetricWarning: Precision is ill-defined and being set to 0.0 in labels with no predicted samples. Use `zero_division` parameter to control this behavior.\n",
      "  _warn_prf(average, modifier, f\"{metric.capitalize()} is\", len(result))\n"
     ]
    },
    {
     "name": "stdout",
     "output_type": "stream",
     "text": [
      "              precision    recall  f1-score   support\n",
      "\n",
      "           0       0.33      0.02      0.04       295\n",
      "           1       0.00      0.00      0.00       198\n",
      "           2       0.29      0.78      0.42       508\n",
      "           3       0.43      0.08      0.13       523\n",
      "           4       0.40      0.42      0.41       476\n",
      "\n",
      "    accuracy                           0.32      2000\n",
      "   macro avg       0.29      0.26      0.20      2000\n",
      "weighted avg       0.33      0.32      0.25      2000\n",
      "\n",
      "\n",
      "\n",
      "\n",
      "[[  6   0 243   8  38]\n",
      " [  1   0 173   7  17]\n",
      " [  5   0 398  16  89]\n",
      " [  5   0 325  41 152]\n",
      " [  1   0 251  23 201]]\n",
      "accuracy 0.1705\n",
      "epoch 5\n"
     ]
    },
    {
     "name": "stderr",
     "output_type": "stream",
     "text": [
      "100%|██████████| 1125/1125 [00:27<00:00, 40.27it/s, loss=0.0933, acc=0.323]\n",
      "100%|██████████| 125/125 [00:01<00:00, 105.50it/s]\n",
      "/Users/him/anaconda3/envs/COMP4332_Project/lib/python3.11/site-packages/sklearn/metrics/_classification.py:1509: UndefinedMetricWarning: Precision is ill-defined and being set to 0.0 in labels with no predicted samples. Use `zero_division` parameter to control this behavior.\n",
      "  _warn_prf(average, modifier, f\"{metric.capitalize()} is\", len(result))\n",
      "/Users/him/anaconda3/envs/COMP4332_Project/lib/python3.11/site-packages/sklearn/metrics/_classification.py:1509: UndefinedMetricWarning: Precision is ill-defined and being set to 0.0 in labels with no predicted samples. Use `zero_division` parameter to control this behavior.\n",
      "  _warn_prf(average, modifier, f\"{metric.capitalize()} is\", len(result))\n",
      "/Users/him/anaconda3/envs/COMP4332_Project/lib/python3.11/site-packages/sklearn/metrics/_classification.py:1509: UndefinedMetricWarning: Precision is ill-defined and being set to 0.0 in labels with no predicted samples. Use `zero_division` parameter to control this behavior.\n",
      "  _warn_prf(average, modifier, f\"{metric.capitalize()} is\", len(result))\n"
     ]
    },
    {
     "name": "stdout",
     "output_type": "stream",
     "text": [
      "              precision    recall  f1-score   support\n",
      "\n",
      "           0       0.43      0.02      0.04       295\n",
      "           1       0.00      0.00      0.00       198\n",
      "           2       0.31      0.56      0.40       508\n",
      "           3       0.31      0.24      0.27       523\n",
      "           4       0.40      0.58      0.48       476\n",
      "\n",
      "    accuracy                           0.34      2000\n",
      "   macro avg       0.29      0.28      0.24      2000\n",
      "weighted avg       0.32      0.34      0.29      2000\n",
      "\n",
      "\n",
      "\n",
      "\n",
      "[[  6   0 194  44  51]\n",
      " [  0   0 137  35  26]\n",
      " [  2   0 282 105 119]\n",
      " [  3   0 184 125 211]\n",
      " [  3   0 108  89 276]]\n",
      "accuracy 0.2265\n",
      "epoch 6\n"
     ]
    },
    {
     "name": "stderr",
     "output_type": "stream",
     "text": [
      "100%|██████████| 1125/1125 [00:28<00:00, 39.14it/s, loss=0.0914, acc=0.348]\n",
      "100%|██████████| 125/125 [00:01<00:00, 106.39it/s]\n"
     ]
    },
    {
     "name": "stdout",
     "output_type": "stream",
     "text": [
      "              precision    recall  f1-score   support\n",
      "\n",
      "           0       0.41      0.16      0.23       295\n",
      "           1       1.00      0.01      0.01       198\n",
      "           2       0.32      0.59      0.41       508\n",
      "           3       0.36      0.27      0.31       523\n",
      "           4       0.44      0.52      0.48       476\n",
      "\n",
      "    accuracy                           0.37      2000\n",
      "   macro avg       0.51      0.31      0.29      2000\n",
      "weighted avg       0.44      0.37      0.33      2000\n",
      "\n",
      "\n",
      "\n",
      "\n",
      "[[ 46   0 185  31  33]\n",
      " [ 23   1 132  14  28]\n",
      " [ 23   0 301 105  79]\n",
      " [ 12   0 199 139 173]\n",
      " [  8   0 126  95 247]]\n",
      "accuracy 0.205\n",
      "epoch 7\n"
     ]
    },
    {
     "name": "stderr",
     "output_type": "stream",
     "text": [
      "100%|██████████| 1125/1125 [00:28<00:00, 39.55it/s, loss=0.0897, acc=0.363]\n",
      "100%|██████████| 125/125 [00:01<00:00, 99.72it/s]\n",
      "/Users/him/anaconda3/envs/COMP4332_Project/lib/python3.11/site-packages/sklearn/metrics/_classification.py:1509: UndefinedMetricWarning: Precision is ill-defined and being set to 0.0 in labels with no predicted samples. Use `zero_division` parameter to control this behavior.\n",
      "  _warn_prf(average, modifier, f\"{metric.capitalize()} is\", len(result))\n",
      "/Users/him/anaconda3/envs/COMP4332_Project/lib/python3.11/site-packages/sklearn/metrics/_classification.py:1509: UndefinedMetricWarning: Precision is ill-defined and being set to 0.0 in labels with no predicted samples. Use `zero_division` parameter to control this behavior.\n",
      "  _warn_prf(average, modifier, f\"{metric.capitalize()} is\", len(result))\n",
      "/Users/him/anaconda3/envs/COMP4332_Project/lib/python3.11/site-packages/sklearn/metrics/_classification.py:1509: UndefinedMetricWarning: Precision is ill-defined and being set to 0.0 in labels with no predicted samples. Use `zero_division` parameter to control this behavior.\n",
      "  _warn_prf(average, modifier, f\"{metric.capitalize()} is\", len(result))\n"
     ]
    },
    {
     "name": "stdout",
     "output_type": "stream",
     "text": [
      "              precision    recall  f1-score   support\n",
      "\n",
      "           0       0.38      0.22      0.28       295\n",
      "           1       0.00      0.00      0.00       198\n",
      "           2       0.31      0.43      0.36       508\n",
      "           3       0.34      0.35      0.35       523\n",
      "           4       0.44      0.54      0.48       476\n",
      "\n",
      "    accuracy                           0.36      2000\n",
      "   macro avg       0.29      0.31      0.29      2000\n",
      "weighted avg       0.33      0.36      0.34      2000\n",
      "\n",
      "\n",
      "\n",
      "\n",
      "[[ 64   0 147  48  36]\n",
      " [ 34   0 110  29  25]\n",
      " [ 35   0 219 164  90]\n",
      " [ 22   0 141 183 177]\n",
      " [ 13   0  96 111 256]]\n",
      "accuracy 0.2255\n",
      "epoch 8\n"
     ]
    },
    {
     "name": "stderr",
     "output_type": "stream",
     "text": [
      "100%|██████████| 1125/1125 [00:28<00:00, 39.35it/s, loss=0.0881, acc=0.379]\n",
      "100%|██████████| 125/125 [00:01<00:00, 106.76it/s]\n"
     ]
    },
    {
     "name": "stdout",
     "output_type": "stream",
     "text": [
      "              precision    recall  f1-score   support\n",
      "\n",
      "           0       0.37      0.39      0.38       295\n",
      "           1       0.00      0.00      0.00       198\n",
      "           2       0.32      0.36      0.34       508\n",
      "           3       0.38      0.31      0.34       523\n",
      "           4       0.42      0.62      0.50       476\n",
      "\n",
      "    accuracy                           0.38      2000\n",
      "   macro avg       0.30      0.33      0.31      2000\n",
      "weighted avg       0.34      0.38      0.35      2000\n",
      "\n",
      "\n",
      "\n",
      "\n",
      "[[114   1  99  30  51]\n",
      " [ 62   0  86  24  26]\n",
      " [ 77   0 181 133 117]\n",
      " [ 33   1 120 161 208]\n",
      " [ 23   0  85  72 296]]\n",
      "accuracy 0.214\n",
      "epoch 9\n"
     ]
    },
    {
     "name": "stderr",
     "output_type": "stream",
     "text": [
      "100%|██████████| 1125/1125 [00:27<00:00, 41.17it/s, loss=0.087, acc=0.388] \n",
      "100%|██████████| 125/125 [00:01<00:00, 109.23it/s]\n"
     ]
    },
    {
     "name": "stdout",
     "output_type": "stream",
     "text": [
      "              precision    recall  f1-score   support\n",
      "\n",
      "           0       0.39      0.37      0.38       295\n",
      "           1       0.50      0.01      0.01       198\n",
      "           2       0.35      0.38      0.36       508\n",
      "           3       0.38      0.30      0.33       523\n",
      "           4       0.42      0.66      0.51       476\n",
      "\n",
      "    accuracy                           0.39      2000\n",
      "   macro avg       0.41      0.34      0.32      2000\n",
      "weighted avg       0.40      0.39      0.36      2000\n",
      "\n",
      "\n",
      "\n",
      "\n",
      "[[110   0  98  24  63]\n",
      " [ 59   1  83  25  30]\n",
      " [ 59   1 195 125 128]\n",
      " [ 31   0 122 155 215]\n",
      " [ 20   0  67  74 315]]\n",
      "accuracy 0.2115\n",
      "epoch 10\n"
     ]
    },
    {
     "name": "stderr",
     "output_type": "stream",
     "text": [
      "100%|██████████| 1125/1125 [00:27<00:00, 41.62it/s, loss=0.0857, acc=0.402]\n",
      "100%|██████████| 125/125 [00:01<00:00, 107.23it/s]\n"
     ]
    },
    {
     "name": "stdout",
     "output_type": "stream",
     "text": [
      "              precision    recall  f1-score   support\n",
      "\n",
      "           0       0.39      0.43      0.41       295\n",
      "           1       0.00      0.00      0.00       198\n",
      "           2       0.35      0.42      0.38       508\n",
      "           3       0.42      0.25      0.31       523\n",
      "           4       0.43      0.67      0.52       476\n",
      "\n",
      "    accuracy                           0.40      2000\n",
      "   macro avg       0.32      0.35      0.32      2000\n",
      "weighted avg       0.36      0.40      0.36      2000\n",
      "\n",
      "\n",
      "\n",
      "\n",
      "[[128   1  96  15  55]\n",
      " [ 67   0  80  21  30]\n",
      " [ 76   1 211  93 127]\n",
      " [ 35   0 142 131 215]\n",
      " [ 25   0  80  51 320]]\n",
      "accuracy 0.1945\n",
      "epoch 11\n"
     ]
    },
    {
     "name": "stderr",
     "output_type": "stream",
     "text": [
      "100%|██████████| 1125/1125 [00:26<00:00, 42.21it/s, loss=0.0844, acc=0.414]\n",
      "100%|██████████| 125/125 [00:01<00:00, 108.52it/s]\n"
     ]
    },
    {
     "name": "stdout",
     "output_type": "stream",
     "text": [
      "              precision    recall  f1-score   support\n",
      "\n",
      "           0       0.48      0.27      0.35       295\n",
      "           1       0.50      0.01      0.01       198\n",
      "           2       0.34      0.40      0.37       508\n",
      "           3       0.37      0.41      0.39       523\n",
      "           4       0.46      0.64      0.54       476\n",
      "\n",
      "    accuracy                           0.40      2000\n",
      "   macro avg       0.43      0.35      0.33      2000\n",
      "weighted avg       0.41      0.40      0.38      2000\n",
      "\n",
      "\n",
      "\n",
      "\n",
      "[[ 80   0 119  41  55]\n",
      " [ 35   1  97  39  26]\n",
      " [ 30   1 203 173 101]\n",
      " [ 13   0 126 212 172]\n",
      " [ 10   0  54 105 307]]\n",
      "accuracy 0.221\n",
      "epoch 12\n"
     ]
    },
    {
     "name": "stderr",
     "output_type": "stream",
     "text": [
      "100%|██████████| 1125/1125 [00:27<00:00, 41.11it/s, loss=0.0837, acc=0.42] \n",
      "100%|██████████| 125/125 [00:01<00:00, 108.07it/s]\n"
     ]
    },
    {
     "name": "stdout",
     "output_type": "stream",
     "text": [
      "              precision    recall  f1-score   support\n",
      "\n",
      "           0       0.36      0.55      0.43       295\n",
      "           1       0.15      0.01      0.02       198\n",
      "           2       0.36      0.43      0.39       508\n",
      "           3       0.39      0.27      0.32       523\n",
      "           4       0.49      0.58      0.53       476\n",
      "\n",
      "    accuracy                           0.40      2000\n",
      "   macro avg       0.35      0.37      0.34      2000\n",
      "weighted avg       0.38      0.40      0.37      2000\n",
      "\n",
      "\n",
      "\n",
      "\n",
      "[[161   4  85  16  29]\n",
      " [ 89   2  71  16  20]\n",
      " [110   4 217 107  70]\n",
      " [ 50   2 161 143 167]\n",
      " [ 38   1  76  86 275]]\n",
      "accuracy 0.1745\n",
      "epoch 13\n"
     ]
    },
    {
     "name": "stderr",
     "output_type": "stream",
     "text": [
      "100%|██████████| 1125/1125 [00:28<00:00, 39.86it/s, loss=0.0826, acc=0.432]\n",
      "100%|██████████| 125/125 [00:01<00:00, 109.85it/s]\n"
     ]
    },
    {
     "name": "stdout",
     "output_type": "stream",
     "text": [
      "              precision    recall  f1-score   support\n",
      "\n",
      "           0       0.46      0.40      0.43       295\n",
      "           1       0.43      0.05      0.08       198\n",
      "           2       0.36      0.43      0.39       508\n",
      "           3       0.40      0.32      0.35       523\n",
      "           4       0.46      0.66      0.54       476\n",
      "\n",
      "    accuracy                           0.41      2000\n",
      "   macro avg       0.42      0.37      0.36      2000\n",
      "weighted avg       0.41      0.41      0.39      2000\n",
      "\n",
      "\n",
      "\n",
      "\n",
      "[[117   3 107  20  48]\n",
      " [ 51   9  92  18  28]\n",
      " [ 50   4 220 131 103]\n",
      " [ 20   4 139 166 194]\n",
      " [ 16   1  60  83 316]]\n",
      "accuracy 0.21\n",
      "epoch 14\n"
     ]
    },
    {
     "name": "stderr",
     "output_type": "stream",
     "text": [
      "100%|██████████| 1125/1125 [00:27<00:00, 41.47it/s, loss=0.0818, acc=0.434]\n",
      "100%|██████████| 125/125 [00:01<00:00, 101.02it/s]\n"
     ]
    },
    {
     "name": "stdout",
     "output_type": "stream",
     "text": [
      "              precision    recall  f1-score   support\n",
      "\n",
      "           0       0.43      0.41      0.42       295\n",
      "           1       0.25      0.02      0.04       198\n",
      "           2       0.38      0.42      0.40       508\n",
      "           3       0.40      0.36      0.38       523\n",
      "           4       0.46      0.64      0.54       476\n",
      "\n",
      "    accuracy                           0.42      2000\n",
      "   macro avg       0.38      0.37      0.35      2000\n",
      "weighted avg       0.40      0.42      0.39      2000\n",
      "\n",
      "\n",
      "\n",
      "\n",
      "[[122   4  90  29  50]\n",
      " [ 54   4  88  23  29]\n",
      " [ 61   4 212 135  96]\n",
      " [ 27   3 119 189 185]\n",
      " [ 19   1  56  93 307]]\n",
      "accuracy 0.206\n",
      "epoch 15\n"
     ]
    },
    {
     "name": "stderr",
     "output_type": "stream",
     "text": [
      "100%|██████████| 1125/1125 [00:27<00:00, 41.11it/s, loss=0.081, acc=0.446] \n",
      "100%|██████████| 125/125 [00:01<00:00, 108.95it/s]\n"
     ]
    },
    {
     "name": "stdout",
     "output_type": "stream",
     "text": [
      "              precision    recall  f1-score   support\n",
      "\n",
      "           0       0.46      0.42      0.44       295\n",
      "           1       0.25      0.04      0.06       198\n",
      "           2       0.36      0.47      0.41       508\n",
      "           3       0.39      0.37      0.38       523\n",
      "           4       0.51      0.59      0.54       476\n",
      "\n",
      "    accuracy                           0.42      2000\n",
      "   macro avg       0.39      0.38      0.37      2000\n",
      "weighted avg       0.41      0.42      0.40      2000\n",
      "\n",
      "\n",
      "\n",
      "\n",
      "[[124   3 107  32  29]\n",
      " [ 59   7  87  24  21]\n",
      " [ 50  11 238 138  71]\n",
      " [ 23   5 150 194 151]\n",
      " [ 11   2  76 108 279]]\n",
      "accuracy 0.1895\n",
      "epoch 16\n"
     ]
    },
    {
     "name": "stderr",
     "output_type": "stream",
     "text": [
      "100%|██████████| 1125/1125 [00:27<00:00, 40.35it/s, loss=0.0803, acc=0.445]\n",
      "100%|██████████| 125/125 [00:01<00:00, 101.50it/s]\n"
     ]
    },
    {
     "name": "stdout",
     "output_type": "stream",
     "text": [
      "              precision    recall  f1-score   support\n",
      "\n",
      "           0       0.44      0.43      0.44       295\n",
      "           1       0.24      0.07      0.10       198\n",
      "           2       0.37      0.46      0.41       508\n",
      "           3       0.42      0.28      0.34       523\n",
      "           4       0.48      0.69      0.56       476\n",
      "\n",
      "    accuracy                           0.42      2000\n",
      "   macro avg       0.39      0.38      0.37      2000\n",
      "weighted avg       0.41      0.42      0.40      2000\n",
      "\n",
      "\n",
      "\n",
      "\n",
      "[[128  13 100  14  40]\n",
      " [ 60  13  90  13  22]\n",
      " [ 59  13 234  99 103]\n",
      " [ 24  10 153 145 191]\n",
      " [ 20   5  53  71 327]]\n",
      "accuracy 0.1965\n",
      "epoch 17\n"
     ]
    },
    {
     "name": "stderr",
     "output_type": "stream",
     "text": [
      "100%|██████████| 1125/1125 [00:27<00:00, 41.34it/s, loss=0.0797, acc=0.456]\n",
      "100%|██████████| 125/125 [00:01<00:00, 109.05it/s]\n"
     ]
    },
    {
     "name": "stdout",
     "output_type": "stream",
     "text": [
      "              precision    recall  f1-score   support\n",
      "\n",
      "           0       0.44      0.42      0.43       295\n",
      "           1       0.34      0.05      0.09       198\n",
      "           2       0.41      0.34      0.37       508\n",
      "           3       0.37      0.35      0.36       523\n",
      "           4       0.44      0.71      0.54       476\n",
      "\n",
      "    accuracy                           0.41      2000\n",
      "   macro avg       0.40      0.37      0.36      2000\n",
      "weighted avg       0.40      0.41      0.39      2000\n",
      "\n",
      "\n",
      "\n",
      "\n",
      "[[123   9  68  32  63]\n",
      " [ 60  10  58  37  33]\n",
      " [ 53   6 171 152 126]\n",
      " [ 27   3  91 184 218]\n",
      " [ 18   1  30  88 339]]\n",
      "accuracy 0.2185\n",
      "epoch 18\n"
     ]
    },
    {
     "name": "stderr",
     "output_type": "stream",
     "text": [
      "100%|██████████| 1125/1125 [00:26<00:00, 41.91it/s, loss=0.079, acc=0.457] \n",
      "100%|██████████| 125/125 [00:01<00:00, 110.22it/s]\n"
     ]
    },
    {
     "name": "stdout",
     "output_type": "stream",
     "text": [
      "              precision    recall  f1-score   support\n",
      "\n",
      "           0       0.50      0.35      0.41       295\n",
      "           1       0.32      0.06      0.10       198\n",
      "           2       0.35      0.54      0.43       508\n",
      "           3       0.37      0.33      0.35       523\n",
      "           4       0.54      0.58      0.56       476\n",
      "\n",
      "    accuracy                           0.42      2000\n",
      "   macro avg       0.42      0.37      0.37      2000\n",
      "weighted avg       0.42      0.42      0.40      2000\n",
      "\n",
      "\n",
      "\n",
      "\n",
      "[[102   8 136  30  19]\n",
      " [ 43  12 110  19  14]\n",
      " [ 36   7 276 130  59]\n",
      " [ 15   7 183 173 145]\n",
      " [  9   4  79 110 274]]\n",
      "accuracy 0.1965\n",
      "epoch 19\n"
     ]
    },
    {
     "name": "stderr",
     "output_type": "stream",
     "text": [
      "100%|██████████| 1125/1125 [00:26<00:00, 43.13it/s, loss=0.0785, acc=0.464]\n",
      "100%|██████████| 125/125 [00:01<00:00, 104.18it/s]\n"
     ]
    },
    {
     "name": "stdout",
     "output_type": "stream",
     "text": [
      "              precision    recall  f1-score   support\n",
      "\n",
      "           0       0.43      0.48      0.45       295\n",
      "           1       0.26      0.12      0.16       198\n",
      "           2       0.39      0.43      0.41       508\n",
      "           3       0.40      0.32      0.36       523\n",
      "           4       0.50      0.62      0.56       476\n",
      "\n",
      "    accuracy                           0.42      2000\n",
      "   macro avg       0.40      0.40      0.39      2000\n",
      "weighted avg       0.41      0.42      0.41      2000\n",
      "\n",
      "\n",
      "\n",
      "\n",
      "[[142  24  72  22  35]\n",
      " [ 63  23  64  26  22]\n",
      " [ 65  26 220 122  75]\n",
      " [ 33  11 148 169 162]\n",
      " [ 29   4  59  88 296]]\n",
      "accuracy 0.186\n",
      "epoch 20\n"
     ]
    },
    {
     "name": "stderr",
     "output_type": "stream",
     "text": [
      "100%|██████████| 1125/1125 [00:33<00:00, 33.61it/s, loss=0.0776, acc=0.466]\n",
      "100%|██████████| 125/125 [00:01<00:00, 73.82it/s]\n"
     ]
    },
    {
     "name": "stdout",
     "output_type": "stream",
     "text": [
      "              precision    recall  f1-score   support\n",
      "\n",
      "           0       0.42      0.51      0.46       295\n",
      "           1       0.23      0.04      0.06       198\n",
      "           2       0.39      0.38      0.39       508\n",
      "           3       0.40      0.37      0.38       523\n",
      "           4       0.49      0.65      0.56       476\n",
      "\n",
      "    accuracy                           0.43      2000\n",
      "   macro avg       0.38      0.39      0.37      2000\n",
      "weighted avg       0.40      0.43      0.41      2000\n",
      "\n",
      "\n",
      "\n",
      "\n",
      "[[151   5  72  30  37]\n",
      " [ 68   7  74  28  21]\n",
      " [ 78  11 195 135  89]\n",
      " [ 36   5 116 191 175]\n",
      " [ 28   3  47  89 309]]\n",
      "accuracy 0.1945\n",
      "epoch 21\n"
     ]
    },
    {
     "name": "stderr",
     "output_type": "stream",
     "text": [
      "100%|██████████| 1125/1125 [00:39<00:00, 28.83it/s, loss=0.0773, acc=0.47] \n",
      "100%|██████████| 125/125 [00:01<00:00, 100.92it/s]\n"
     ]
    },
    {
     "name": "stdout",
     "output_type": "stream",
     "text": [
      "              precision    recall  f1-score   support\n",
      "\n",
      "           0       0.42      0.51      0.46       295\n",
      "           1       0.18      0.05      0.08       198\n",
      "           2       0.40      0.40      0.40       508\n",
      "           3       0.41      0.37      0.39       523\n",
      "           4       0.49      0.62      0.55       476\n",
      "\n",
      "    accuracy                           0.43      2000\n",
      "   macro avg       0.38      0.39      0.38      2000\n",
      "weighted avg       0.41      0.43      0.41      2000\n",
      "\n",
      "\n",
      "\n",
      "\n",
      "[[151  11  73  22  38]\n",
      " [ 77  10  66  23  22]\n",
      " [ 73  19 205 133  78]\n",
      " [ 35   8 122 193 165]\n",
      " [ 22   8  52  99 295]]\n",
      "accuracy 0.1875\n",
      "epoch 22\n"
     ]
    },
    {
     "name": "stderr",
     "output_type": "stream",
     "text": [
      "100%|██████████| 1125/1125 [00:36<00:00, 31.08it/s, loss=0.0771, acc=0.477]\n",
      "100%|██████████| 125/125 [00:01<00:00, 97.40it/s] \n"
     ]
    },
    {
     "name": "stdout",
     "output_type": "stream",
     "text": [
      "              precision    recall  f1-score   support\n",
      "\n",
      "           0       0.42      0.49      0.45       295\n",
      "           1       0.32      0.06      0.09       198\n",
      "           2       0.37      0.47      0.42       508\n",
      "           3       0.40      0.30      0.34       523\n",
      "           4       0.50      0.62      0.56       476\n",
      "\n",
      "    accuracy                           0.42      2000\n",
      "   macro avg       0.40      0.39      0.37      2000\n",
      "weighted avg       0.41      0.42      0.40      2000\n",
      "\n",
      "\n",
      "\n",
      "\n",
      "[[144   8  94  19  30]\n",
      " [ 69  11  82  17  19]\n",
      " [ 68  10 241 113  76]\n",
      " [ 38   4 155 156 170]\n",
      " [ 20   1  74  84 297]]\n",
      "accuracy 0.1865\n",
      "epoch 23\n"
     ]
    },
    {
     "name": "stderr",
     "output_type": "stream",
     "text": [
      "100%|██████████| 1125/1125 [00:29<00:00, 38.44it/s, loss=0.0762, acc=0.481]\n",
      "100%|██████████| 125/125 [00:01<00:00, 108.12it/s]\n"
     ]
    },
    {
     "name": "stdout",
     "output_type": "stream",
     "text": [
      "              precision    recall  f1-score   support\n",
      "\n",
      "           0       0.46      0.45      0.46       295\n",
      "           1       0.25      0.12      0.16       198\n",
      "           2       0.37      0.44      0.41       508\n",
      "           3       0.38      0.30      0.34       523\n",
      "           4       0.50      0.62      0.55       476\n",
      "\n",
      "    accuracy                           0.42      2000\n",
      "   macro avg       0.39      0.39      0.38      2000\n",
      "weighted avg       0.41      0.42      0.41      2000\n",
      "\n",
      "\n",
      "\n",
      "\n",
      "[[133  21  89  22  30]\n",
      " [ 55  24  79  22  18]\n",
      " [ 53  25 226 124  80]\n",
      " [ 25  20 151 159 168]\n",
      " [ 21   7  61  92 295]]\n",
      "accuracy 0.196\n",
      "epoch 24\n"
     ]
    },
    {
     "name": "stderr",
     "output_type": "stream",
     "text": [
      "100%|██████████| 1125/1125 [00:28<00:00, 39.86it/s, loss=0.0758, acc=0.483]\n",
      "100%|██████████| 125/125 [00:01<00:00, 109.82it/s]\n"
     ]
    },
    {
     "name": "stdout",
     "output_type": "stream",
     "text": [
      "              precision    recall  f1-score   support\n",
      "\n",
      "           0       0.45      0.39      0.42       295\n",
      "           1       0.22      0.07      0.11       198\n",
      "           2       0.37      0.42      0.39       508\n",
      "           3       0.37      0.37      0.37       523\n",
      "           4       0.48      0.60      0.54       476\n",
      "\n",
      "    accuracy                           0.41      2000\n",
      "   macro avg       0.38      0.37      0.37      2000\n",
      "weighted avg       0.39      0.41      0.40      2000\n",
      "\n",
      "\n",
      "\n",
      "\n",
      "[[116  19  92  35  33]\n",
      " [ 50  14  84  28  22]\n",
      " [ 50  19 213 143  83]\n",
      " [ 18  10 136 191 168]\n",
      " [ 21   3  51 115 286]]\n",
      "accuracy 0.207\n",
      "epoch 25\n"
     ]
    },
    {
     "name": "stderr",
     "output_type": "stream",
     "text": [
      "100%|██████████| 1125/1125 [00:26<00:00, 42.08it/s, loss=0.0752, acc=0.484]\n",
      "100%|██████████| 125/125 [00:01<00:00, 110.46it/s]\n"
     ]
    },
    {
     "name": "stdout",
     "output_type": "stream",
     "text": [
      "              precision    recall  f1-score   support\n",
      "\n",
      "           0       0.43      0.46      0.44       295\n",
      "           1       0.25      0.11      0.15       198\n",
      "           2       0.38      0.46      0.42       508\n",
      "           3       0.40      0.31      0.35       523\n",
      "           4       0.50      0.61      0.55       476\n",
      "\n",
      "    accuracy                           0.42      2000\n",
      "   macro avg       0.39      0.39      0.38      2000\n",
      "weighted avg       0.41      0.42      0.41      2000\n",
      "\n",
      "\n",
      "\n",
      "\n",
      "[[137  25  80  27  26]\n",
      " [ 61  22  78  21  16]\n",
      " [ 70  21 232 104  81]\n",
      " [ 31  12 154 164 162]\n",
      " [ 22   7  61  97 289]]\n",
      "accuracy 0.1845\n",
      "epoch 26\n"
     ]
    },
    {
     "name": "stderr",
     "output_type": "stream",
     "text": [
      "100%|██████████| 1125/1125 [00:26<00:00, 42.27it/s, loss=0.0747, acc=0.494]\n",
      "100%|██████████| 125/125 [00:01<00:00, 103.60it/s]\n"
     ]
    },
    {
     "name": "stdout",
     "output_type": "stream",
     "text": [
      "              precision    recall  f1-score   support\n",
      "\n",
      "           0       0.42      0.51      0.46       295\n",
      "           1       0.35      0.12      0.17       198\n",
      "           2       0.40      0.38      0.39       508\n",
      "           3       0.38      0.37      0.37       523\n",
      "           4       0.49      0.60      0.54       476\n",
      "\n",
      "    accuracy                           0.42      2000\n",
      "   macro avg       0.41      0.39      0.39      2000\n",
      "weighted avg       0.41      0.42      0.41      2000\n",
      "\n",
      "\n",
      "\n",
      "\n",
      "[[149  18  62  37  29]\n",
      " [ 71  23  56  30  18]\n",
      " [ 79  15 192 142  80]\n",
      " [ 33   7 124 193 166]\n",
      " [ 24   3  50 112 287]]\n",
      "accuracy 0.191\n",
      "epoch 27\n"
     ]
    },
    {
     "name": "stderr",
     "output_type": "stream",
     "text": [
      "100%|██████████| 1125/1125 [00:27<00:00, 40.98it/s, loss=0.0744, acc=0.496]\n",
      "100%|██████████| 125/125 [00:01<00:00, 106.68it/s]\n"
     ]
    },
    {
     "name": "stdout",
     "output_type": "stream",
     "text": [
      "              precision    recall  f1-score   support\n",
      "\n",
      "           0       0.41      0.45      0.43       295\n",
      "           1       0.25      0.11      0.15       198\n",
      "           2       0.40      0.36      0.38       508\n",
      "           3       0.38      0.43      0.41       523\n",
      "           4       0.51      0.57      0.54       476\n",
      "\n",
      "    accuracy                           0.42      2000\n",
      "   macro avg       0.39      0.38      0.38      2000\n",
      "weighted avg       0.41      0.42      0.41      2000\n",
      "\n",
      "\n",
      "\n",
      "\n",
      "[[134  24  61  41  35]\n",
      " [ 74  21  56  27  20]\n",
      " [ 72  23 182 165  66]\n",
      " [ 31  11 112 226 143]\n",
      " [ 19   4  48 132 273]]\n",
      "accuracy 0.194\n",
      "epoch 28\n"
     ]
    },
    {
     "name": "stderr",
     "output_type": "stream",
     "text": [
      "100%|██████████| 1125/1125 [00:27<00:00, 41.66it/s, loss=0.0738, acc=0.5]  \n",
      "100%|██████████| 125/125 [00:01<00:00, 109.55it/s]\n"
     ]
    },
    {
     "name": "stdout",
     "output_type": "stream",
     "text": [
      "              precision    recall  f1-score   support\n",
      "\n",
      "           0       0.46      0.39      0.42       295\n",
      "           1       0.30      0.11      0.16       198\n",
      "           2       0.37      0.49      0.42       508\n",
      "           3       0.37      0.29      0.33       523\n",
      "           4       0.49      0.62      0.55       476\n",
      "\n",
      "    accuracy                           0.42      2000\n",
      "   macro avg       0.40      0.38      0.38      2000\n",
      "weighted avg       0.41      0.42      0.40      2000\n",
      "\n",
      "\n",
      "\n",
      "\n",
      "[[114  19 104  21  37]\n",
      " [ 53  22  80  21  22]\n",
      " [ 46  19 248 119  76]\n",
      " [ 20   9 163 151 180]\n",
      " [ 14   4  69  92 297]]\n",
      "accuracy 0.199\n",
      "epoch 29\n"
     ]
    },
    {
     "name": "stderr",
     "output_type": "stream",
     "text": [
      "100%|██████████| 1125/1125 [00:27<00:00, 40.72it/s, loss=0.0736, acc=0.501]\n",
      "100%|██████████| 125/125 [00:01<00:00, 109.75it/s]\n"
     ]
    },
    {
     "name": "stdout",
     "output_type": "stream",
     "text": [
      "              precision    recall  f1-score   support\n",
      "\n",
      "           0       0.44      0.44      0.44       295\n",
      "           1       0.29      0.12      0.17       198\n",
      "           2       0.38      0.53      0.44       508\n",
      "           3       0.40      0.27      0.33       523\n",
      "           4       0.51      0.60      0.55       476\n",
      "\n",
      "    accuracy                           0.42      2000\n",
      "   macro avg       0.40      0.39      0.38      2000\n",
      "weighted avg       0.42      0.42      0.41      2000\n",
      "\n",
      "\n",
      "\n",
      "\n",
      "[[131  22  97  20  25]\n",
      " [ 58  23  79  18  20]\n",
      " [ 67  16 268  86  71]\n",
      " [ 28  11 182 143 159]\n",
      " [ 17   6  79  89 285]]\n",
      "accuracy 0.173\n",
      "epoch 30\n"
     ]
    },
    {
     "name": "stderr",
     "output_type": "stream",
     "text": [
      "100%|██████████| 1125/1125 [00:27<00:00, 40.76it/s, loss=0.0733, acc=0.505]\n",
      "100%|██████████| 125/125 [00:01<00:00, 108.77it/s]"
     ]
    },
    {
     "name": "stdout",
     "output_type": "stream",
     "text": [
      "              precision    recall  f1-score   support\n",
      "\n",
      "           0       0.47      0.35      0.40       295\n",
      "           1       0.33      0.10      0.16       198\n",
      "           2       0.38      0.47      0.42       508\n",
      "           3       0.37      0.35      0.36       523\n",
      "           4       0.49      0.61      0.55       476\n",
      "\n",
      "    accuracy                           0.42      2000\n",
      "   macro avg       0.41      0.38      0.38      2000\n",
      "weighted avg       0.41      0.42      0.41      2000\n",
      "\n",
      "\n",
      "\n",
      "\n",
      "[[104  20 101  32  38]\n",
      " [ 48  20  77  29  24]\n",
      " [ 41  11 240 140  76]\n",
      " [ 16   6 154 185 162]\n",
      " [ 12   3  59 110 292]]\n",
      "accuracy 0.1995\n"
     ]
    },
    {
     "name": "stderr",
     "output_type": "stream",
     "text": [
      "\n"
     ]
    }
   ],
   "source": [
    "for e in range(1, 31):    \n",
    "    print('epoch', e)\n",
    "    model.train()\n",
    "    total_acc = 0\n",
    "    total_loss = 0\n",
    "    total_count = 0\n",
    "    with tqdm.tqdm(train_loader) as t:\n",
    "        for x, y in t:\n",
    "            # print(x.shape)\n",
    "            optimizer.zero_grad()\n",
    "            logits = model(x)\n",
    "            loss = criterion(logits, y)\n",
    "            loss.backward()\n",
    "            total_acc += (logits.argmax(1) == y).sum().item()\n",
    "            total_count += y.size(0)\n",
    "            total_loss += loss.item()\n",
    "            optimizer.step()\n",
    "            t.set_postfix({'loss': total_loss/total_count, 'acc': total_acc/total_count})\n",
    "\n",
    "    model.eval()\n",
    "    y_pred = []\n",
    "    y_true = []\n",
    "    with tqdm.tqdm(valid_loader) as t:\n",
    "        for x, y in t:\n",
    "            logits = model(x)\n",
    "            total_acc += (logits.argmax(1) == y).sum().item()\n",
    "            total_count += len(y)\n",
    "            y_pred += logits.argmax(1).tolist()\n",
    "            y_true += y.tolist()\n",
    "    print(classification_report(y_true, y_pred))\n",
    "    print(\"\\n\\n\")\n",
    "    print(confusion_matrix(y_true, y_pred))\n",
    "    print('accuracy', np.mean(y_valid == y_pred))"
   ]
  }
 ],
 "metadata": {
  "kernelspec": {
   "display_name": "Python 3.11.8 ('COMP4332_Project')",
   "language": "python",
   "name": "python3"
  },
  "language_info": {
   "codemirror_mode": {
    "name": "ipython",
    "version": 3
   },
   "file_extension": ".py",
   "mimetype": "text/x-python",
   "name": "python",
   "nbconvert_exporter": "python",
   "pygments_lexer": "ipython3",
   "version": "3.11.8"
  },
  "orig_nbformat": 4,
  "vscode": {
   "interpreter": {
    "hash": "9cfe628363714e2cc319f5f9909ac20c6e4768ce99385b26bf0600af3158fd82"
   }
  }
 },
 "nbformat": 4,
 "nbformat_minor": 2
}
